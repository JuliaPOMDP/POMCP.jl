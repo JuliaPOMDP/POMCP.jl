{
 "cells": [
  {
   "cell_type": "code",
   "execution_count": 1,
   "metadata": {
    "collapsed": false
   },
   "outputs": [],
   "source": [
    "using POMCP\n",
    "using POMDPs\n",
    "using POMDPModels # for the crying baby problem model\n",
    "using POMDPToolbox # for the rollout simulator"
   ]
  },
  {
   "cell_type": "code",
   "execution_count": 2,
   "metadata": {
    "collapsed": false
   },
   "outputs": [
    {
     "data": {
      "text/plain": [
       "POMDPModels.BoolDistribution(0.0)"
      ]
     },
     "execution_count": 2,
     "metadata": {},
     "output_type": "execute_result"
    }
   ],
   "source": [
    "# create the problem and initial belief\n",
    "problem = BabyPOMDP(-5, -10)\n",
    "dist = BoolDistribution(0.0)"
   ]
  },
  {
   "cell_type": "code",
   "execution_count": 3,
   "metadata": {
    "collapsed": false
   },
   "outputs": [
    {
     "data": {
      "text/plain": [
       "POMCP.RootUpdater{POMCP.DeadReinvigorator{Bool}}(POMCP.DeadReinvigorator{Bool}())"
      ]
     },
     "execution_count": 3,
     "metadata": {},
     "output_type": "execute_result"
    }
   ],
   "source": [
    "# create the solver using the FeedWhenCrying policy from\n",
    "# POMDPModels for rollouts\n",
    "#\n",
    "# Since the updater argument is not set, this uses the\n",
    "# default particle filter as described in the paper\n",
    "#\n",
    "solver = POMCPSolver(rollout_solver=FeedWhenCrying(),\n",
    "                     eps=0.01,\n",
    "                     c=10.0,\n",
    "                     tree_queries=300, \n",
    "                     rng=MersenneTwister(1))\n",
    "\n",
    "# create the policy and the belief updater\n",
    "policy = solve(solver, problem)\n",
    "up = updater(policy)"
   ]
  },
  {
   "cell_type": "code",
   "execution_count": 4,
   "metadata": {
    "collapsed": false
   },
   "outputs": [],
   "source": [
    "# create the simulator (note \"Rollout\"Simulator here has\n",
    "# nothing to do with the rollouts in POMCP; this is the\n",
    "# outer loop simulator)\n",
    "sim = RolloutSimulator(rng=MersenneTwister(14),\n",
    "                       initial_state=false,\n",
    "                       eps=0.01);"
   ]
  },
  {
   "cell_type": "code",
   "execution_count": 5,
   "metadata": {
    "collapsed": false
   },
   "outputs": [
    {
     "data": {
      "text/plain": [
       "-6.767279837353019"
      ]
     },
     "execution_count": 5,
     "metadata": {},
     "output_type": "execute_result"
    }
   ],
   "source": [
    "# run the simulation\n",
    "sim_reward = simulate(sim,\n",
    "                  problem,\n",
    "                  policy,\n",
    "                  up,\n",
    "                  dist)"
   ]
  }
 ],
 "metadata": {
  "anaconda-cloud": {},
  "kernelspec": {
   "display_name": "Julia 0.5.0",
   "language": "julia",
   "name": "julia-0.5"
  },
  "language_info": {
   "file_extension": ".jl",
   "mimetype": "application/julia",
   "name": "julia",
   "version": "0.5.0"
  }
 },
 "nbformat": 4,
 "nbformat_minor": 0
}
