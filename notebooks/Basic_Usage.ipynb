{
 "cells": [
  {
   "cell_type": "code",
   "execution_count": 6,
   "metadata": {},
   "outputs": [
    {
     "name": "stderr",
     "output_type": "stream",
     "text": [
      "\u001b[1m\u001b[36mINFO: \u001b[39m\u001b[22m\u001b[36mPrecompiling module POMCP.\n",
      "\u001b[39m\u001b[1m\u001b[91mERROR: \u001b[39m\u001b[22mLoadError: LoadError: \u001b[91minvalid subtyping in definition of RootNode\u001b[39m\n",
      "Stacktrace:\n",
      " [1] \u001b[1minclude_from_node1\u001b[22m\u001b[22m\u001b[1m(\u001b[22m\u001b[22m::String\u001b[1m)\u001b[22m\u001b[22m at \u001b[1m./loading.jl:569\u001b[22m\u001b[22m\n",
      " [2] \u001b[1minclude\u001b[22m\u001b[22m\u001b[1m(\u001b[22m\u001b[22m::String\u001b[1m)\u001b[22m\u001b[22m at \u001b[1m./sysimg.jl:14\u001b[22m\u001b[22m\n",
      " [3] \u001b[1minclude_from_node1\u001b[22m\u001b[22m\u001b[1m(\u001b[22m\u001b[22m::String\u001b[1m)\u001b[22m\u001b[22m at \u001b[1m./loading.jl:569\u001b[22m\u001b[22m\n",
      " [4] \u001b[1minclude\u001b[22m\u001b[22m\u001b[1m(\u001b[22m\u001b[22m::String\u001b[1m)\u001b[22m\u001b[22m at \u001b[1m./sysimg.jl:14\u001b[22m\u001b[22m\n",
      " [5] \u001b[1manonymous\u001b[22m\u001b[22m at \u001b[1m./<missing>:2\u001b[22m\u001b[22m\n",
      "while loading /home/maxime/.julia/v0.6/POMCP/src/tree.jl, in expression starting on line 21\n",
      "while loading /home/maxime/.julia/v0.6/POMCP/src/POMCP.jl, in expression starting on line 65\n"
     ]
    },
    {
     "ename": "LoadError",
     "evalue": "\u001b[91mFailed to precompile POMCP to /home/maxime/.julia/lib/v0.6/POMCP.ji.\u001b[39m",
     "output_type": "error",
     "traceback": [
      "\u001b[91mFailed to precompile POMCP to /home/maxime/.julia/lib/v0.6/POMCP.ji.\u001b[39m",
      "",
      "Stacktrace:",
      " [1] \u001b[1mcompilecache\u001b[22m\u001b[22m\u001b[1m(\u001b[22m\u001b[22m::String\u001b[1m)\u001b[22m\u001b[22m at \u001b[1m./loading.jl:703\u001b[22m\u001b[22m",
      " [2] \u001b[1m_require\u001b[22m\u001b[22m\u001b[1m(\u001b[22m\u001b[22m::Symbol\u001b[1m)\u001b[22m\u001b[22m at \u001b[1m./loading.jl:490\u001b[22m\u001b[22m",
      " [3] \u001b[1mrequire\u001b[22m\u001b[22m\u001b[1m(\u001b[22m\u001b[22m::Symbol\u001b[1m)\u001b[22m\u001b[22m at \u001b[1m./loading.jl:398\u001b[22m\u001b[22m"
     ]
    }
   ],
   "source": [
    "using POMCP\n",
    "using POMDPs\n",
    "using POMDPModels # for the crying baby problem model\n",
    "using POMDPToolbox # for the rollout simulator"
   ]
  },
  {
   "cell_type": "code",
   "execution_count": 2,
   "metadata": {},
   "outputs": [
    {
     "ename": "LoadError",
     "evalue": "\u001b[91mUndefVarError: BabyPOMDP not defined\u001b[39m",
     "output_type": "error",
     "traceback": [
      "\u001b[91mUndefVarError: BabyPOMDP not defined\u001b[39m",
      ""
     ]
    }
   ],
   "source": [
    "# create the problem and initial belief\n",
    "problem = BabyPOMDP(-5, -10)\n",
    "dist = BoolDistribution(0.0)"
   ]
  },
  {
   "cell_type": "code",
   "execution_count": 3,
   "metadata": {},
   "outputs": [
    {
     "ename": "LoadError",
     "evalue": "\u001b[91mUndefVarError: POMCPSolver not defined\u001b[39m",
     "output_type": "error",
     "traceback": [
      "\u001b[91mUndefVarError: POMCPSolver not defined\u001b[39m",
      ""
     ]
    }
   ],
   "source": [
    "# create the solver using the FeedWhenCrying policy from\n",
    "# POMDPModels for rollouts\n",
    "#\n",
    "# Since the updater argument is not set, this uses the\n",
    "# default particle filter as described in the paper\n",
    "#\n",
    "solver = POMCPSolver(estimate_value=RolloutEstimator(FeedWhenCrying()),\n",
    "                     eps=0.01,\n",
    "                     c=10.0,\n",
    "                     tree_queries=300, \n",
    "                     rng=MersenneTwister(1))\n",
    "\n",
    "# create the policy and the belief updater\n",
    "policy = solve(solver, problem)\n",
    "up = updater(policy)"
   ]
  },
  {
   "cell_type": "code",
   "execution_count": 4,
   "metadata": {},
   "outputs": [
    {
     "ename": "LoadError",
     "evalue": "\u001b[91mUndefVarError: RolloutSimulator not defined\u001b[39m",
     "output_type": "error",
     "traceback": [
      "\u001b[91mUndefVarError: RolloutSimulator not defined\u001b[39m",
      ""
     ]
    }
   ],
   "source": [
    "# create the simulator (note \"Rollout\"Simulator here has\n",
    "# nothing to do with the rollouts in POMCP; this is the\n",
    "# outer loop simulator)\n",
    "sim = RolloutSimulator(rng=MersenneTwister(14),\n",
    "                       initial_state=false,\n",
    "                       eps=0.01);"
   ]
  },
  {
   "cell_type": "code",
   "execution_count": 5,
   "metadata": {},
   "outputs": [
    {
     "ename": "LoadError",
     "evalue": "\u001b[91mUndefVarError: simulate not defined\u001b[39m",
     "output_type": "error",
     "traceback": [
      "\u001b[91mUndefVarError: simulate not defined\u001b[39m",
      ""
     ]
    }
   ],
   "source": [
    "# run the simulation\n",
    "sim_reward = simulate(sim,\n",
    "                  problem,\n",
    "                  policy,\n",
    "                  up,\n",
    "                  dist)"
   ]
  },
  {
   "cell_type": "code",
   "execution_count": null,
   "metadata": {
    "collapsed": true
   },
   "outputs": [],
   "source": []
  }
 ],
 "metadata": {
  "anaconda-cloud": {},
  "kernelspec": {
   "display_name": "Julia 0.6.0",
   "language": "julia",
   "name": "julia-0.6"
  },
  "language_info": {
   "file_extension": ".jl",
   "mimetype": "application/julia",
   "name": "julia",
   "version": "0.6.0"
  }
 },
 "nbformat": 4,
 "nbformat_minor": 1
}
