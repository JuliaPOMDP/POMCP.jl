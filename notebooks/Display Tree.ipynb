{
 "cells": [
  {
   "cell_type": "code",
   "execution_count": 7,
   "metadata": {
    "collapsed": false,
    "scrolled": true
   },
   "outputs": [
    {
     "data": {
      "text/plain": [
       "false"
      ]
     },
     "execution_count": 7,
     "metadata": {},
     "output_type": "execute_result"
    }
   ],
   "source": [
    "using POMDPModels\n",
    "using POMCP\n",
    "import POMDPs\n",
    "import POMDPToolbox: PreviousObservationUpdater\n",
    "\n",
    "import POMCP.init_V\n",
    "import POMDPs.action\n",
    "\n",
    "problem = POMDPModels.BabyPOMDP(-5, -10)\n",
    "rng = MersenneTwister(1)\n",
    "\n",
    "solver = POMCPSolver(rollout_solver=POMDPModels.FeedWhenCrying(),\n",
    "                     eps=0.01,\n",
    "                     c=10.0,\n",
    "                     tree_queries=20, \n",
    "                     rng=rng,\n",
    "                     updater=POMDPs.updater(problem))\n",
    "\n",
    "policy = POMDPs.solve(solver, problem)\n",
    "\n",
    "b = RootNode(0, POMDPModels.BoolDistribution(0.0), Dict{Any,POMCP.ActNode}())\n",
    "\n",
    "a = action(policy, b)"
   ]
  },
  {
   "cell_type": "code",
   "execution_count": 8,
   "metadata": {
    "collapsed": false,
    "scrolled": false
   },
   "outputs": [
    {
     "data": {
      "text/plain": [
       "POMCP.RootNode(20,POMDPModels.BoolDistribution(0.0),Dict{Any,POMCP.ActNode}(false=>POMCP.ActNode(false,15,-14.178486292328014,POMCP.RootNode(#= circular reference =#),Dict{Any,Any}(false=>POMCP.ObsNode(false,12,POMDPModels.BoolDistribution(0.02409638554216867),POMCP.ActNode(#= circular reference =#),Dict{Any,POMCP.ActNode}(false=>POMCP.ActNode(false,7,-14.532102127002457,POMCP.ObsNode(#= circular reference =#),Dict{Any,Any}(false=>POMCP.ObsNode(false,6,POMDPModels.BoolDistribution(0.029868401596924436),POMCP.ActNode(#= circular reference =#),Dict{Any,POMCP.ActNode}(false=>POMCP.ActNode(false,4,-12.14683053055917,POMCP.ObsNode(#= circular reference =#),Dict{Any,Any}(false=>POMCP.ObsNode(false,4,POMDPModels.BoolDistribution(0.03128309542601845),POMCP.ActNode(#= circular reference =#),Dict{Any,POMCP.ActNode}(false=>POMCP.ActNode(false,2,-12.789898656659908,POMCP.ObsNode(#= circular reference =#),Dict{Any,Any}(false=>POMCP.ObsNode(false,1,POMDPModels.BoolDistribution(0.03163176762395152),POMCP.ActNode(#= circular reference =#),Dict{Any,POMCP.ActNode}(false=>POMCP.ActNode(false,0,0.0,POMCP.ObsNode(#= circular reference =#),Dict{Any,Any}()),true=>POMCP.ActNode(true,0,0.0,POMCP.ObsNode(#= circular reference =#),Dict{Any,Any}()))),true=>POMCP.ObsNode(true,1,POMDPModels.BoolDistribution(0.5404286561068665),POMCP.ActNode(#= circular reference =#),Dict{Any,POMCP.ActNode}(false=>POMCP.ActNode(false,0,0.0,POMCP.ObsNode(#= circular reference =#),Dict{Any,Any}()),true=>POMCP.ActNode(true,0,0.0,POMCP.ObsNode(#= circular reference =#),Dict{Any,Any}()))))),true=>POMCP.ActNode(true,1,-9.8862413530498,POMCP.ObsNode(#= circular reference =#),Dict{Any,Any}(false=>POMCP.ObsNode(false,1,POMDPModels.BoolDistribution(0.0),POMCP.ActNode(#= circular reference =#),Dict{Any,POMCP.ActNode}(false=>POMCP.ActNode(false,0,0.0,POMCP.ObsNode(#= circular reference =#),Dict{Any,Any}()),true=>POMCP.ActNode(true,0,0.0,POMCP.ObsNode(#= circular reference =#),Dict{Any,Any}()))))))))),true=>POMCP.ActNode(true,1,-22.368606790460316,POMCP.ObsNode(#= circular reference =#),Dict{Any,Any}(false=>POMCP.ObsNode(false,1,POMDPModels.BoolDistribution(0.0),POMCP.ActNode(#= circular reference =#),Dict{Any,POMCP.ActNode}(false=>POMCP.ActNode(false,0,0.0,POMCP.ObsNode(#= circular reference =#),Dict{Any,Any}()),true=>POMCP.ActNode(true,0,0.0,POMCP.ObsNode(#= circular reference =#),Dict{Any,Any}()))))))),true=>POMCP.ObsNode(true,1,POMDPModels.BoolDistribution(0.5256994144437216),POMCP.ActNode(#= circular reference =#),Dict{Any,POMCP.ActNode}(false=>POMCP.ActNode(false,0,0.0,POMCP.ObsNode(#= circular reference =#),Dict{Any,Any}()),true=>POMCP.ActNode(true,0,0.0,POMCP.ObsNode(#= circular reference =#),Dict{Any,Any}()))))),true=>POMCP.ActNode(true,4,-19.335458017157045,POMCP.ObsNode(#= circular reference =#),Dict{Any,Any}(false=>POMCP.ObsNode(false,4,POMDPModels.BoolDistribution(0.0),POMCP.ActNode(#= circular reference =#),Dict{Any,POMCP.ActNode}(false=>POMCP.ActNode(false,1,-21.85209494819548,POMCP.ObsNode(#= circular reference =#),Dict{Any,Any}(false=>POMCP.ObsNode(false,1,POMDPModels.BoolDistribution(0.02409638554216867),POMCP.ActNode(#= circular reference =#),Dict{Any,POMCP.ActNode}(false=>POMCP.ActNode(false,0,0.0,POMCP.ObsNode(#= circular reference =#),Dict{Any,Any}()),true=>POMCP.ActNode(true,0,0.0,POMCP.ObsNode(#= circular reference =#),Dict{Any,Any}()))))),true=>POMCP.ActNode(true,2,-13.528653607558264,POMCP.ObsNode(#= circular reference =#),Dict{Any,Any}(false=>POMCP.ObsNode(false,2,POMDPModels.BoolDistribution(0.0),POMCP.ActNode(#= circular reference =#),Dict{Any,POMCP.ActNode}(false=>POMCP.ActNode(false,0,0.0,POMCP.ObsNode(#= circular reference =#),Dict{Any,Any}()),true=>POMCP.ActNode(true,1,-18.0086829139699,POMCP.ObsNode(#= circular reference =#),Dict{Any,Any}(false=>POMCP.ObsNode(false,1,POMDPModels.BoolDistribution(0.0),POMCP.ActNode(#= circular reference =#),Dict{Any,POMCP.ActNode}(false=>POMCP.ActNode(false,0,0.0,POMCP.ObsNode(#= circular reference =#),Dict{Any,Any}()),true=>POMCP.ActNode(true,0,0.0,POMCP.ObsNode(#= circular reference =#),Dict{Any,Any}()))))))))))))))),true=>POMCP.ObsNode(true,3,POMDPModels.BoolDistribution(0.47058823529411764),POMCP.ActNode(#= circular reference =#),Dict{Any,POMCP.ActNode}(false=>POMCP.ActNode(false,1,-8.56627386285058,POMCP.ObsNode(#= circular reference =#),Dict{Any,Any}(false=>POMCP.ObsNode(false,1,POMDPModels.BoolDistribution(0.1962513781697905),POMCP.ActNode(#= circular reference =#),Dict{Any,POMCP.ActNode}(false=>POMCP.ActNode(false,0,0.0,POMCP.ObsNode(#= circular reference =#),Dict{Any,Any}()),true=>POMCP.ActNode(true,0,0.0,POMCP.ObsNode(#= circular reference =#),Dict{Any,Any}()))))),true=>POMCP.ActNode(true,1,-22.012108321094054,POMCP.ObsNode(#= circular reference =#),Dict{Any,Any}(false=>POMCP.ObsNode(false,1,POMDPModels.BoolDistribution(0.0),POMCP.ActNode(#= circular reference =#),Dict{Any,POMCP.ActNode}(false=>POMCP.ActNode(false,0,0.0,POMCP.ObsNode(#= circular reference =#),Dict{Any,Any}()),true=>POMCP.ActNode(true,0,0.0,POMCP.ObsNode(#= circular reference =#),Dict{Any,Any}()))))))))),true=>POMCP.ActNode(true,4,-20.67295551333895,POMCP.RootNode(#= circular reference =#),Dict{Any,Any}(false=>POMCP.ObsNode(false,4,POMDPModels.BoolDistribution(0.0),POMCP.ActNode(#= circular reference =#),Dict{Any,POMCP.ActNode}(false=>POMCP.ActNode(false,1,-23.583677270808323,POMCP.ObsNode(#= circular reference =#),Dict{Any,Any}(false=>POMCP.ObsNode(false,1,POMDPModels.BoolDistribution(0.02409638554216867),POMCP.ActNode(#= circular reference =#),Dict{Any,POMCP.ActNode}(false=>POMCP.ActNode(false,0,0.0,POMCP.ObsNode(#= circular reference =#),Dict{Any,Any}()),true=>POMCP.ActNode(true,0,0.0,POMCP.ObsNode(#= circular reference =#),Dict{Any,Any}()))))),true=>POMCP.ActNode(true,2,-15.38168841539532,POMCP.ObsNode(#= circular reference =#),Dict{Any,Any}(false=>POMCP.ObsNode(false,2,POMDPModels.BoolDistribution(0.0),POMCP.ActNode(#= circular reference =#),Dict{Any,POMCP.ActNode}(false=>POMCP.ActNode(false,0,0.0,POMCP.ObsNode(#= circular reference =#),Dict{Any,Any}()),true=>POMCP.ActNode(true,1,-16.98096678323224,POMCP.ObsNode(#= circular reference =#),Dict{Any,Any}(true=>POMCP.ObsNode(true,1,POMDPModels.BoolDistribution(0.0),POMCP.ActNode(#= circular reference =#),Dict{Any,POMCP.ActNode}(false=>POMCP.ActNode(false,0,0.0,POMCP.ObsNode(#= circular reference =#),Dict{Any,Any}()),true=>POMCP.ActNode(true,0,0.0,POMCP.ObsNode(#= circular reference =#),Dict{Any,Any}())))))))))))))))"
      ]
     },
     "execution_count": 8,
     "metadata": {},
     "output_type": "execute_result"
    }
   ],
   "source": [
    "b"
   ]
  },
  {
   "cell_type": "code",
   "execution_count": null,
   "metadata": {
    "collapsed": true
   },
   "outputs": [],
   "source": []
  },
  {
   "cell_type": "code",
   "execution_count": null,
   "metadata": {
    "collapsed": true
   },
   "outputs": [],
   "source": []
  }
 ],
 "metadata": {
  "kernelspec": {
   "display_name": "Julia 0.4.0",
   "language": "julia",
   "name": "julia-0.4"
  },
  "language_info": {
   "file_extension": ".jl",
   "mimetype": "application/julia",
   "name": "julia",
   "version": "0.4.5"
  }
 },
 "nbformat": 4,
 "nbformat_minor": 0
}
