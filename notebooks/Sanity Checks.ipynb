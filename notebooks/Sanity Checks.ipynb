{
 "cells": [
  {
   "cell_type": "code",
   "execution_count": 1,
   "metadata": {
    "collapsed": false
   },
   "outputs": [],
   "source": [
    "addprocs(6);"
   ]
  },
  {
   "cell_type": "code",
   "execution_count": 2,
   "metadata": {
    "collapsed": false
   },
   "outputs": [],
   "source": [
    "@everywhere begin\n",
    "import POMDPModels\n",
    "using POMCP\n",
    "import POMDPs\n",
    "import POMDPToolbox.PreviousObservation\n",
    "\n",
    "import POMCP.belief_from_node\n",
    "import POMCP.init_V\n",
    "import POMDPs.action\n",
    "end"
   ]
  },
  {
   "cell_type": "code",
   "execution_count": 3,
   "metadata": {
    "collapsed": false
   },
   "outputs": [],
   "source": [
    "N = 2000;\n",
    "eps = 0.01;\n",
    "problem = POMDPModels.BabyPOMDP(-5, -10);"
   ]
  },
  {
   "cell_type": "code",
   "execution_count": 4,
   "metadata": {
    "collapsed": false
   },
   "outputs": [],
   "source": [
    "@everywhere type RandomBabyPolicy <: POMDPs.Policy\n",
    "    rng::AbstractRNG\n",
    "end\n",
    "@everywhere action(p::RandomBabyPolicy, b::POMDPs.Belief) = POMDPModels.BabyAction(rand(p.rng)>0.5)"
   ]
  },
  {
   "cell_type": "code",
   "execution_count": 10,
   "metadata": {
    "collapsed": true
   },
   "outputs": [],
   "source": [
    "@everywhere function belief_from_node(problem::POMDPModels.BabyPOMDP, node::POMCP.ObsNode)\n",
    "    return PreviousObservation(node.label)\n",
    "end"
   ]
  },
  {
   "cell_type": "code",
   "execution_count": 5,
   "metadata": {
    "collapsed": false
   },
   "outputs": [
    {
     "data": {
      "text/plain": [
       "est_reward (generic function with 1 method)"
      ]
     },
     "execution_count": 5,
     "metadata": {},
     "output_type": "execute_result"
    }
   ],
   "source": [
    "function est_reward(problem, policy, belief, N)\n",
    "    sum = @parallel (+) for i in 1:N\n",
    "        sim_rng = MersenneTwister(i)\n",
    "        POMDPs.simulate(problem, policy, belief, rng=sim_rng, eps=eps, initial_state=POMDPModels.BabyState(false))\n",
    "    end\n",
    "    return sum/N;\n",
    "end"
   ]
  },
  {
   "cell_type": "code",
   "execution_count": 6,
   "metadata": {
    "collapsed": false
   },
   "outputs": [
    {
     "data": {
      "text/plain": [
       "-16.600315445486913"
      ]
     },
     "execution_count": 6,
     "metadata": {},
     "output_type": "execute_result"
    }
   ],
   "source": [
    "# Feed when Crying (Expected Reward for this nearly-optimal policy is -17.14)\n",
    "# Test from earlier this week with 5000 experiments: -16.72\n",
    "est_reward(problem, POMDPModels.FeedWhenCrying(), PreviousObservation(POMDPModels.BabyObservation(false)), N)"
   ]
  },
  {
   "cell_type": "code",
   "execution_count": 7,
   "metadata": {
    "collapsed": false
   },
   "outputs": [
    {
     "data": {
      "text/plain": [
       "-32.34750118876957"
      ]
     },
     "execution_count": 7,
     "metadata": {},
     "output_type": "execute_result"
    }
   ],
   "source": [
    "# Random\n",
    "pol_rng = MersenneTwister(7)\n",
    "est_reward(problem, RandomBabyPolicy(pol_rng), PreviousObservation(POMDPModels.BabyObservation(false)), N)"
   ]
  },
  {
   "cell_type": "code",
   "execution_count": 11,
   "metadata": {
    "collapsed": false
   },
   "outputs": [
    {
     "name": "stderr",
     "output_type": "stream",
     "text": [
      "exception on 2: ERROR: FeedWhenCrying does not implement action\n",
      " in error at error.jl:21\n",
      " in action at /home/zach/.julia/POMDPs/src/policy.jl:4\n",
      " in simulate at /home/zach/.julia/POMDPs/src/simulate.jl:33\n",
      " in simulate at /home/zach/.julia/POMCP/src/solver.jl:70\n",
      " in search at /home/zach/.julia/POMCP/src/solver.jl:39\n",
      " in action at /home/zach/.julia/POMCP/src/solver.jl:13\n",
      " in simulate at /home/zach/.julia/POMDPs/src/simulate.jl:33\n",
      " in anonymous at no file:4\n",
      " in anonymous at multi.jl:1279\n",
      " in anonymous at multi.jl:848\n",
      " in run_work_thunk at multi.jl:621\n",
      " in run_work_thunk at multi.jl:630\n",
      " in anonymous at task.jl:6\n",
      "exception on 3: ERROR: FeedWhenCrying does not implement action\n",
      " in error at error.jl:21\n",
      " in action at /home/zach/.julia/POMDPs/src/policy.jl:4\n",
      " in simulate at /home/zach/.julia/POMDPs/src/simulate.jl:33\n",
      " in simulate at /home/zach/.julia/POMCP/src/solver.jl:70\n",
      " in search at /home/zach/.julia/POMCP/src/solver.jl:39\n",
      " in action at /home/zach/.julia/POMCP/src/solver.jl:13\n",
      " in simulate at /home/zach/.julia/POMDPs/src/simulate.jl:33\n",
      " in anonymous at no file:4\n",
      " in anonymous at multi.jl:1279\n",
      " in anonymous at multi.jl:848\n",
      " in run_work_thunk at multi.jl:621\n",
      " in run_work_thunk at multi.jl:630\n",
      " in anonymous at task.jl:6\n",
      "exception on 4: ERROR: FeedWhenCrying does not implement action\n",
      " in error at error.jl:21\n",
      " in action at /home/zach/.julia/POMDPs/src/policy.jl:4\n",
      " in simulate at /home/zach/.julia/POMDPs/src/simulate.jl:33\n",
      " in simulate at /home/zach/.julia/POMCP/src/solver.jl:70\n",
      " in search at /home/zach/.julia/POMCP/src/solver.jl:39\n",
      " in action at /home/zach/.julia/POMCP/src/solver.jl:13\n",
      " in simulate at /home/zach/.julia/POMDPs/src/simulate.jl:33\n",
      " in anonymous at no file:4\n",
      " in anonymous at multi.jl:1279\n",
      " in anonymous at multi.jl:848\n",
      " in run_work_thunk at multi.jl:621\n",
      " in run_work_thunk at multi.jl:630\n",
      " in anonymous at task.jl:6\n",
      "exception on 5: ERROR: FeedWhenCrying does not implement action\n",
      " in error at error.jl:21\n",
      " in action at /home/zach/.julia/POMDPs/src/policy.jl:4\n",
      " in simulate at /home/zach/.julia/POMDPs/src/simulate.jl:33\n",
      " in simulate at /home/zach/.julia/POMCP/src/solver.jl:70\n",
      " in search at /home/zach/.julia/POMCP/src/solver.jl:39\n",
      " in action at /home/zach/.julia/POMCP/src/solver.jl:13\n",
      " in simulate at /home/zach/.julia/POMDPs/src/simulate.jl:33\n",
      " in anonymous at no file:4\n",
      " in anonymous at multi.jl:1279\n",
      " in anonymous at multi.jl:848\n",
      " in run_work_thunk at multi.jl:621\n",
      " in run_work_thunk at multi.jl:630\n",
      " in anonymous at task.jl:6\n"
     ]
    },
    {
     "ename": "LoadError",
     "evalue": "`+` has no method matching +(::ErrorException, ::ErrorException)\nwhile loading In[11], in expression starting on line 56",
     "output_type": "error",
     "traceback": [
      "`+` has no method matching +(::ErrorException, ::ErrorException)\nwhile loading In[11], in expression starting on line 56",
      "",
      " in _mapreduce at reduce.jl:166",
      " in mapreduce at reduce.jl:182",
      " in preduce at multi.jl:1414",
      " in est_reward at In[5]:1488"
     ]
    },
    {
     "name": "stderr",
     "output_type": "stream",
     "text": [
      "exception on 6: exception on 7: ERROR: FeedWhenCrying does not implement action\n",
      " in error at error.jl:21\n",
      " in action at /home/zach/.julia/POMDPs/src/policy.jl:4\n",
      " in simulate at /home/zach/.julia/POMDPs/src/simulate.jl:33\n",
      " in simulate at /home/zach/.julia/POMCP/src/solver.jl:70\n",
      " in search at /home/zach/.julia/POMCP/src/solver.jl:39\n",
      " in action at /home/zach/.julia/POMCP/src/solver.jl:13\n",
      " in simulate at /home/zach/.julia/POMDPs/src/simulate.jl:33\n",
      " in anonymous at no file:4\n",
      " in anonymous at multi.jl:1279\n",
      " in anonymous at multi.jl:848\n",
      " in run_work_thunk at multi.jl:621\n",
      " in run_work_thunk at multi.jl:630\n",
      " in anonymous at task.jl:6\n",
      "ERROR: FeedWhenCrying does not implement action\n",
      " in error at error.jl:21\n",
      " in action at /home/zach/.julia/POMDPs/src/policy.jl:4\n",
      " in simulate at /home/zach/.julia/POMDPs/src/simulate.jl:33\n",
      " in simulate at /home/zach/.julia/POMCP/src/solver.jl:70\n",
      " in search at /home/zach/.julia/POMCP/src/solver.jl:39\n",
      " in action at /home/zach/.julia/POMCP/src/solver.jl:13\n",
      " in simulate at /home/zach/.julia/POMDPs/src/simulate.jl:33\n",
      " in anonymous at no file:4\n",
      " in anonymous at multi.jl:1279\n",
      " in anonymous at multi.jl:848\n",
      " in run_work_thunk at multi.jl:621\n",
      " in run_work_thunk at multi.jl:630\n",
      " in anonymous at task.jl:6\n"
     ]
    }
   ],
   "source": [
    "# POMCP with FWC rollout policy\n",
    "# test from earlier this week with 5000 experiments: -16.77\n",
    "rng = MersenneTwister(2)\n",
    "\n",
    "solver = POMCPSolver(POMDPModels.FeedWhenCrying(),\n",
    "                     0.01,\n",
    "                     10,\n",
    "                     500, \n",
    "                     rng,\n",
    "                     false)\n",
    "\n",
    "policy = solve(solver, problem)\n",
    "\n",
    "@time est_reward(problem, policy, POMCPBeliefWrapper(POMDPModels.BabyStateDistribution(0.0)), N)"
   ]
  },
  {
   "cell_type": "code",
   "execution_count": 9,
   "metadata": {
    "collapsed": false
   },
   "outputs": [
    {
     "name": "stdout",
     "output_type": "stream",
     "text": [
      "elapsed time: 348.985811789 seconds (332384 bytes allocated)\n"
     ]
    },
    {
     "data": {
      "text/plain": [
       "-17.106689861988823"
      ]
     },
     "execution_count": 9,
     "metadata": {},
     "output_type": "execute_result"
    }
   ],
   "source": [
    "# POMCP with Random rollout policy\n",
    "rng = MersenneTwister(2)\n",
    "rollout_pol_rng = MersenneTwister(2)\n",
    "\n",
    "solver = POMCPSolver(RandomBabyPolicy(rollout_pol_rng),\n",
    "                     0.01,\n",
    "                     10,\n",
    "                     300, \n",
    "                     rng,\n",
    "                     false)\n",
    "\n",
    "policy = solve(solver, problem)\n",
    "\n",
    "@time est_reward(problem, policy, POMCPBeliefWrapper(POMDPModels.BabyStateDistribution(0.0)), N)"
   ]
  },
  {
   "cell_type": "code",
   "execution_count": null,
   "metadata": {
    "collapsed": true
   },
   "outputs": [],
   "source": []
  }
 ],
 "metadata": {
  "kernelspec": {
   "display_name": "Julia 0.3.8",
   "language": "julia",
   "name": "julia-0.3"
  },
  "language_info": {
   "name": "julia",
   "version": "0.3.11"
  }
 },
 "nbformat": 4,
 "nbformat_minor": 0
}
