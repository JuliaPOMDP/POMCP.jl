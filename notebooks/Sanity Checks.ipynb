{
 "cells": [
  {
   "cell_type": "code",
   "execution_count": 1,
   "metadata": {
    "collapsed": false
   },
   "outputs": [],
   "source": [
    "# addprocs(30);\n",
    "addprocs(7);"
   ]
  },
  {
   "cell_type": "code",
   "execution_count": 4,
   "metadata": {
    "collapsed": false
   },
   "outputs": [
    {
     "name": "stderr",
     "output_type": "stream",
     "text": [
      "WARNING: using POMCP.init_V in module Main conflicts with an existing identifier.\n",
      "WARNING: ignoring conflicting import of POMCP.init_V into Main\n",
      "WARNING: using POMCP.init_V in module Main conflicts with an existing identifier.\n",
      "WARNING: ignoring conflicting import of POMCP.init_V into Main\n",
      "WARNING: using POMCP.init_V in module Main conflicts with an existing identifier.\n",
      "WARNING: ignoring conflicting import of POMCP.init_V into Main\n",
      "WARNING: using POMCP.init_V in module Main conflicts with an existing identifier.\n",
      "WARNING: ignoring conflicting import of POMCP.init_V into Main\n",
      "WARNING: using POMCP.init_V in module Main conflicts with an existing identifier.\n",
      "WARNING: ignoring conflicting import of POMCP.init_V into Main\n",
      "WARNING: using POMCP.init_V in module Main conflicts with an existing identifier.\n",
      "WARNING: ignoring conflicting import of POMCP.init_V into Main\n"
     ]
    }
   ],
   "source": [
    "@everywhere begin\n",
    "    using POMDPModels\n",
    "    using POMCP\n",
    "    using POMDPs\n",
    "    import POMDPToolbox.PreviousObservation\n",
    "    import POMCP.init_V\n",
    "    # import POMCP.POMCPPolicy\n",
    "    import POMDPs: action, updater\n",
    "end"
   ]
  },
  {
   "cell_type": "code",
   "execution_count": 5,
   "metadata": {
    "collapsed": false
   },
   "outputs": [],
   "source": [
    "# N = 100000;\n",
    "N = 100;\n",
    "problem = BabyPOMDP(-5, -10);"
   ]
  },
  {
   "cell_type": "code",
   "execution_count": 6,
   "metadata": {
    "collapsed": false
   },
   "outputs": [],
   "source": [
    "@everywhere type RandomBabyPolicy <: POMDPs.Policy\n",
    "    rng::AbstractRNG\n",
    "end\n",
    "@everywhere function action(p::RandomBabyPolicy, b::POMDPs.Belief, a=BabyAction(false))\n",
    "    a.feed = rand(p.rng)>0.5\n",
    "    return a\n",
    "end\n",
    "@everywhere updater(::RandomBabyPolicy) = POMDPToolbox.EmptyUpdater()"
   ]
  },
  {
   "cell_type": "code",
   "execution_count": 7,
   "metadata": {
    "collapsed": false
   },
   "outputs": [
    {
     "data": {
      "text/plain": [
       "est_reward (generic function with 1 method)"
      ]
     },
     "execution_count": 7,
     "metadata": {},
     "output_type": "execute_result"
    }
   ],
   "source": [
    "function est_reward(problem, policy, belief, N; eps=0.01)\n",
    "    sum = @parallel (+) for i in 1:N\n",
    "        sim_rng = MersenneTwister(i)\n",
    "        sim = POMDPToolbox.RolloutSimulator(rng=sim_rng, initial_state=BabyState(false), eps=eps)\n",
    "        up = updater(policy)\n",
    "        POMDPs.simulate(sim, problem, policy, up, convert_belief(up,belief))\n",
    "    end\n",
    "    return sum/N;\n",
    "end"
   ]
  },
  {
   "cell_type": "code",
   "execution_count": 8,
   "metadata": {
    "collapsed": false
   },
   "outputs": [
    {
     "name": "stdout",
     "output_type": "stream",
     "text": [
      "  "
     ]
    },
    {
     "data": {
      "text/plain": [
       "-15.061634270536405"
      ]
     },
     "execution_count": 8,
     "metadata": {},
     "output_type": "execute_result"
    },
    {
     "name": "stdout",
     "output_type": "stream",
     "text": [
      "1.162281 seconds (482.03 k allocations: 20.724 MB, 0.62% gc time)\n"
     ]
    }
   ],
   "source": [
    "# Feed when Crying (Expected Reward for this nearly-optimal policy is -17.14)\n",
    "# Test from earlier this week with 5000 experiments: -16.72\n",
    "@time est_reward(problem, FeedWhenCrying(), PreviousObservation(BabyObservation(false)), N)"
   ]
  },
  {
   "cell_type": "markdown",
   "metadata": {},
   "source": [
    "This is better than in the crying babies test because epsilon is large and, more importantly, it gets a notcrying observation on the first step every time"
   ]
  },
  {
   "cell_type": "code",
   "execution_count": 9,
   "metadata": {
    "collapsed": false
   },
   "outputs": [
    {
     "name": "stdout",
     "output_type": "stream",
     "text": [
      "  "
     ]
    },
    {
     "data": {
      "text/plain": [
       "-32.237364849049165"
      ]
     },
     "execution_count": 9,
     "metadata": {},
     "output_type": "execute_result"
    },
    {
     "name": "stdout",
     "output_type": "stream",
     "text": [
      "0.607114 seconds (426.77 k allocations: 17.946 MB, 0.73% gc time)\n"
     ]
    }
   ],
   "source": [
    "# Random\n",
    "pol_rng = MersenneTwister(7)\n",
    "@time est_reward(problem, RandomBabyPolicy(pol_rng), POMDPToolbox.EmptyBelief(), N)"
   ]
  },
  {
   "cell_type": "code",
   "execution_count": 10,
   "metadata": {
    "collapsed": false
   },
   "outputs": [
    {
     "name": "stdout",
     "output_type": "stream",
     "text": [
      " 28"
     ]
    },
    {
     "data": {
      "text/plain": [
       "-14.694925426652963"
      ]
     },
     "execution_count": 10,
     "metadata": {},
     "output_type": "execute_result"
    }
   ],
   "source": [
    "# POMCP with FWC rollout policy\n",
    "# test from earlier this week with 5000 experiments: -16.77\n",
    "rng = MersenneTwister(2)\n",
    "\n",
    "solver = POMCPSolver(rollout_policy=FeedWhenCrying(),\n",
    "                    eps=0.01,\n",
    "                    c=10.0,\n",
    "                    tree_queries=300, \n",
    "                    rng=rng,\n",
    "                    updater=updater(problem))\n",
    "                    \n",
    "\n",
    "policy = solve(solver, problem)\n",
    "\n",
    "@time est_reward(problem, policy, BabyStateDistribution(0.0), N)"
   ]
  },
  {
   "cell_type": "code",
   "execution_count": 11,
   "metadata": {
    "collapsed": false
   },
   "outputs": [
    {
     "name": "stdout",
     "output_type": "stream",
     "text": [
      ".787750 seconds (182.06 k allocations: 8.020 MB, 0.01% gc time)\n",
      " 20"
     ]
    },
    {
     "data": {
      "text/plain": [
       "-15.982194944371333"
      ]
     },
     "execution_count": 11,
     "metadata": {},
     "output_type": "execute_result"
    }
   ],
   "source": [
    "# POMCP with Random rollout policy\n",
    "rng = MersenneTwister(2)\n",
    "rollout_pol_rng = MersenneTwister(2)\n",
    "\n",
    "solver = POMCPSolver(rollout_policy=RandomBabyPolicy(rollout_pol_rng),\n",
    "                     eps=0.01,\n",
    "                     c=10.0,\n",
    "                     tree_queries=300, \n",
    "                     rng=rng,\n",
    "                     updater=updater(problem))\n",
    "\n",
    "policy = solve(solver, problem)\n",
    "\n",
    "@time est_reward(problem, policy, BabyStateDistribution(0.0), N)"
   ]
  },
  {
   "cell_type": "code",
   "execution_count": 12,
   "metadata": {
    "collapsed": false
   },
   "outputs": [
    {
     "name": "stdout",
     "output_type": "stream",
     "text": [
      ".300595 seconds (47.35 k allocations: 2.546 MB)\n",
      "  "
     ]
    },
    {
     "data": {
      "text/plain": [
       "-14.686851194997828"
      ]
     },
     "execution_count": 12,
     "metadata": {},
     "output_type": "execute_result"
    },
    {
     "name": "stdout",
     "output_type": "stream",
     "text": [
      "0.216601 seconds (47.39 k allocations: 2.562 MB)\n"
     ]
    }
   ],
   "source": [
    "# Optimal policy for these particular problem parameters:\n",
    "# if the belief that the baby is hungry is over .28206, then feed (see DMU book)\n",
    "@everywhere begin\n",
    "    type OptBabyPolicy <: POMDPs.Policy\n",
    "    end\n",
    "    function action(p::OptBabyPolicy, b::BabyStateDistribution, a=BabyAction(false))\n",
    "        a.feed = b.p_hungry>0.28206\n",
    "        return a\n",
    "    end\n",
    "    updater(::OptBabyPolicy) = updater(BabyPOMDP(-5,-10))\n",
    "end\n",
    "@time est_reward(problem, OptBabyPolicy(), BabyStateDistribution(0.0), N)"
   ]
  },
  {
   "cell_type": "code",
   "execution_count": null,
   "metadata": {
    "collapsed": true
   },
   "outputs": [],
   "source": []
  },
  {
   "cell_type": "code",
   "execution_count": null,
   "metadata": {
    "collapsed": true
   },
   "outputs": [],
   "source": []
  }
 ],
 "metadata": {
  "kernelspec": {
   "display_name": "Julia 0.4.0",
   "language": "julia",
   "name": "julia-0.4"
  },
  "language_info": {
   "file_extension": ".jl",
   "mimetype": "application/julia",
   "name": "julia",
   "version": "0.4.0"
  }
 },
 "nbformat": 4,
 "nbformat_minor": 0
}
