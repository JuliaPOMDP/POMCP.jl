{
 "cells": [
  {
   "cell_type": "code",
   "execution_count": 8,
   "metadata": {
    "collapsed": false
   },
   "outputs": [],
   "source": [
    "# addprocs(30);\n",
    "addprocs(7);"
   ]
  },
  {
   "cell_type": "code",
   "execution_count": 9,
   "metadata": {
    "collapsed": false
   },
   "outputs": [
    {
     "name": "stderr",
     "output_type": "stream",
     "text": [
      "WARNING: replacing module POMDPModels\n",
      "WARNING: replacing module POMCP\n"
     ]
    }
   ],
   "source": [
    "require(:POMDPModels)\n",
    "require(:POMCP)"
   ]
  },
  {
   "cell_type": "code",
   "execution_count": 10,
   "metadata": {
    "collapsed": false
   },
   "outputs": [
    {
     "name": "stderr",
     "output_type": "stream",
     "text": [
      "WARNING: using POMDPModels.FeedWhenCrying in module Main conflicts with an existing identifier.\n",
      "WARNING: using POMDPModels.BoolDistribution in module Main conflicts with an existing identifier.\n",
      "WARNING: using POMDPModels.BabyPOMDP in module Main conflicts with an existing identifier.\n",
      "WARNING: using POMCP.POMCPSolver in module Main conflicts with an existing identifier.\n",
      "WARNING: using POMCP.init_V in module Main conflicts with an existing identifier.\n",
      "WARNING: ignoring conflicting import of POMCP.init_V into Main\n"
     ]
    }
   ],
   "source": [
    "@everywhere begin\n",
    "    using POMDPModels\n",
    "    using POMCP\n",
    "    using POMDPs\n",
    "    using POMDPToolbox\n",
    "    import POMCP.init_V\n",
    "    import POMDPs: action, updater\n",
    "end"
   ]
  },
  {
   "cell_type": "code",
   "execution_count": 11,
   "metadata": {
    "collapsed": false
   },
   "outputs": [],
   "source": [
    "# N = 100000;\n",
    "N = 100;\n",
    "problem = BabyPOMDP(-5, -10);"
   ]
  },
  {
   "cell_type": "code",
   "execution_count": 12,
   "metadata": {
    "collapsed": false
   },
   "outputs": [
    {
     "data": {
      "text/plain": [
       "est_reward (generic function with 1 method)"
      ]
     },
     "execution_count": 12,
     "metadata": {},
     "output_type": "execute_result"
    }
   ],
   "source": [
    "function est_reward(problem, policy, belief, N; eps=0.01)\n",
    "    sum = @parallel (+) for i in 1:N\n",
    "        sim_rng = MersenneTwister(i)\n",
    "        sim = POMDPToolbox.RolloutSimulator(rng=sim_rng, initial_state=false, eps=eps)\n",
    "        up = updater(policy)\n",
    "        POMDPs.simulate(sim, problem, policy, up, initialize_belief(up,belief))\n",
    "    end\n",
    "    return sum/N;\n",
    "end"
   ]
  },
  {
   "cell_type": "code",
   "execution_count": 13,
   "metadata": {
    "collapsed": false
   },
   "outputs": [
    {
     "name": "stdout",
     "output_type": "stream",
     "text": [
      "  "
     ]
    },
    {
     "data": {
      "text/plain": [
       "-15.061634270536405"
      ]
     },
     "execution_count": 13,
     "metadata": {},
     "output_type": "execute_result"
    }
   ],
   "source": [
    "# Feed when Crying (Expected Reward for this nearly-optimal policy is -17.14)\n",
    "# Test from earlier this week with 5000 experiments: -16.72\n",
    "@time est_reward(problem, FeedWhenCrying(), false, N)"
   ]
  },
  {
   "cell_type": "markdown",
   "metadata": {},
   "source": [
    "This is better than in the crying babies test because epsilon is large and, more importantly, it gets a notcrying observation on the first step every time"
   ]
  },
  {
   "cell_type": "code",
   "execution_count": 14,
   "metadata": {
    "collapsed": false
   },
   "outputs": [
    {
     "name": "stdout",
     "output_type": "stream",
     "text": [
      "2.857863 seconds (286.25 k allocations: 12.402 MB, 2.59% gc time)\n",
      "  "
     ]
    },
    {
     "data": {
      "text/plain": [
       "-31.33487686696136"
      ]
     },
     "execution_count": 14,
     "metadata": {},
     "output_type": "execute_result"
    }
   ],
   "source": [
    "# Random\n",
    "pol_rng = MersenneTwister(7)\n",
    "@time est_reward(problem, RandomPolicy(problem, rng=pol_rng), BoolDistribution(0.5), N)"
   ]
  },
  {
   "cell_type": "code",
   "execution_count": 15,
   "metadata": {
    "collapsed": false
   },
   "outputs": [
    {
     "name": "stdout",
     "output_type": "stream",
     "text": [
      "2.497703 seconds (460.17 k allocations: 19.342 MB, 0.60% gc time)\n",
      " 14"
     ]
    },
    {
     "data": {
      "text/plain": [
       "-14.694925426652963"
      ]
     },
     "execution_count": 15,
     "metadata": {},
     "output_type": "execute_result"
    }
   ],
   "source": [
    "# POMCP with FWC rollout policy\n",
    "# test from earlier this week with 5000 experiments: -16.77\n",
    "rng = MersenneTwister(2)\n",
    "\n",
    "solver = POMCPSolver(rollout_solver=FeedWhenCrying(),\n",
    "                    eps=0.01,\n",
    "                    c=10.0,\n",
    "                    tree_queries=300, \n",
    "                    rng=rng,\n",
    "                    updater=updater(problem))\n",
    "                    \n",
    "\n",
    "policy = solve(solver, problem)\n",
    "\n",
    "@time est_reward(problem, policy, BoolDistribution(0.0), N)"
   ]
  },
  {
   "cell_type": "code",
   "execution_count": 16,
   "metadata": {
    "collapsed": false
   },
   "outputs": [
    {
     "name": "stdout",
     "output_type": "stream",
     "text": [
      ".749427 seconds (181.05 k allocations: 7.967 MB)\n",
      " 12"
     ]
    },
    {
     "data": {
      "text/plain": [
       "-15.943953697101506"
      ]
     },
     "execution_count": 16,
     "metadata": {},
     "output_type": "execute_result"
    },
    {
     "name": "stdout",
     "output_type": "stream",
     "text": [
      ".209094 seconds (14.79 k allocations: 1.202 MB)\n"
     ]
    }
   ],
   "source": [
    "# POMCP with Random rollout policy\n",
    "rng = MersenneTwister(2)\n",
    "rollout_pol_rng = MersenneTwister(2)\n",
    "\n",
    "solver = POMCPSolver(rollout_solver=RandomPolicy(problem, rng=rollout_pol_rng),\n",
    "                     eps=0.01,\n",
    "                     c=10.0,\n",
    "                     tree_queries=300, \n",
    "                     rng=rng,\n",
    "                     updater=updater(problem))\n",
    "\n",
    "policy = solve(solver, problem)\n",
    "\n",
    "@time est_reward(problem, policy, BoolDistribution(0.0), N)"
   ]
  },
  {
   "cell_type": "code",
   "execution_count": 17,
   "metadata": {
    "collapsed": false
   },
   "outputs": [
    {
     "name": "stdout",
     "output_type": "stream",
     "text": [
      "  "
     ]
    },
    {
     "data": {
      "text/plain": [
       "-14.686851194997828"
      ]
     },
     "execution_count": 17,
     "metadata": {},
     "output_type": "execute_result"
    },
    {
     "name": "stdout",
     "output_type": "stream",
     "text": [
      "0.620187 seconds (46.70 k allocations: 2.346 MB)\n"
     ]
    }
   ],
   "source": [
    "# Optimal policy for these particular problem parameters:\n",
    "# if the belief that the baby is hungry is over .28206, then feed (see DMU book)\n",
    "@everywhere begin\n",
    "    type OptBabyPolicy <: POMDPs.Policy end\n",
    "    function action(p::OptBabyPolicy, b::BoolDistribution, a=false)\n",
    "        a = b.p>0.28206\n",
    "        return a\n",
    "    end\n",
    "    updater(::OptBabyPolicy) = updater(BabyPOMDP(-5,-10))\n",
    "end\n",
    "@time est_reward(problem, OptBabyPolicy(), BoolDistribution(0.0), N)"
   ]
  },
  {
   "cell_type": "code",
   "execution_count": null,
   "metadata": {
    "collapsed": true
   },
   "outputs": [],
   "source": []
  },
  {
   "cell_type": "code",
   "execution_count": null,
   "metadata": {
    "collapsed": true
   },
   "outputs": [],
   "source": []
  }
 ],
 "metadata": {
  "kernelspec": {
   "display_name": "Julia 0.4.0",
   "language": "julia",
   "name": "julia-0.4"
  },
  "language_info": {
   "file_extension": ".jl",
   "mimetype": "application/julia",
   "name": "julia",
   "version": "0.4.5"
  }
 },
 "nbformat": 4,
 "nbformat_minor": 0
}
