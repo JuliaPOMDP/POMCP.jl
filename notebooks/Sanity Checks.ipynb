{
 "cells": [
  {
   "cell_type": "code",
   "execution_count": 1,
   "metadata": {
    "collapsed": false
   },
   "outputs": [],
   "source": [
    "addprocs(6);"
   ]
  },
  {
   "cell_type": "code",
   "execution_count": 2,
   "metadata": {
    "collapsed": false
   },
   "outputs": [],
   "source": [
    "@everywhere begin\n",
    "    import POMDPModels\n",
    "    using POMCP\n",
    "    using POMDPs\n",
    "    import POMDPToolbox.PreviousObservation\n",
    "\n",
    "    import POMCP.belief_from_node\n",
    "    import POMCP.init_V\n",
    "    import POMCP.POMCPPolicy\n",
    "    import POMDPs.action\n",
    "end"
   ]
  },
  {
   "cell_type": "code",
   "execution_count": 3,
   "metadata": {
    "collapsed": false
   },
   "outputs": [],
   "source": [
    "N = 2000;\n",
    "eps = 0.01;\n",
    "problem = POMDPModels.BabyPOMDP(-5, -10);"
   ]
  },
  {
   "cell_type": "code",
   "execution_count": 4,
   "metadata": {
    "collapsed": false
   },
   "outputs": [],
   "source": [
    "@everywhere type RandomBabyPolicy <: POMDPs.Policy\n",
    "    rng::AbstractRNG\n",
    "end\n",
    "@everywhere action(p::RandomBabyPolicy, b::POMDPs.Belief) = POMDPModels.BabyAction(rand(p.rng)>0.5)"
   ]
  },
  {
   "cell_type": "code",
   "execution_count": 5,
   "metadata": {
    "collapsed": false
   },
   "outputs": [],
   "source": [
    "@everywhere function belief_from_node(policy::POMCPPolicy, node::POMCP.ObsNode)\n",
    "    return PreviousObservation(node.label)\n",
    "end\n",
    "@everywhere function belief_from_node(policy::POMCPPolicy, node::POMCP.RootNode)\n",
    "    state = create_state(policy.problem)\n",
    "    obs = create_observation(policy.problem)\n",
    "    od = create_observation_distribution(policy.problem)\n",
    "    rand!(policy.solver.rng, state, node.B)\n",
    "    observation!(od, policy.problem, state, POMDPModels.BabyAction(false))\n",
    "    rand!(policy.solver.rng, obs, od)\n",
    "    return PreviousObservation(obs)\n",
    "end"
   ]
  },
  {
   "cell_type": "code",
   "execution_count": 6,
   "metadata": {
    "collapsed": false
   },
   "outputs": [
    {
     "data": {
      "text/plain": [
       "est_reward (generic function with 1 method)"
      ]
     },
     "execution_count": 6,
     "metadata": {},
     "output_type": "execute_result"
    }
   ],
   "source": [
    "function est_reward(problem, policy, belief, N)\n",
    "    sum = @parallel (+) for i in 1:N\n",
    "        sim_rng = MersenneTwister(i)\n",
    "        POMDPs.simulate(problem, policy, belief, rng=sim_rng, eps=eps, initial_state=POMDPModels.BabyState(false))\n",
    "    end\n",
    "    return sum/N;\n",
    "end"
   ]
  },
  {
   "cell_type": "code",
   "execution_count": 7,
   "metadata": {
    "collapsed": false
   },
   "outputs": [
    {
     "data": {
      "text/plain": [
       "-16.600315445486913"
      ]
     },
     "execution_count": 7,
     "metadata": {},
     "output_type": "execute_result"
    }
   ],
   "source": [
    "# Feed when Crying (Expected Reward for this nearly-optimal policy is -17.14)\n",
    "# Test from earlier this week with 5000 experiments: -16.72\n",
    "est_reward(problem, POMDPModels.FeedWhenCrying(), PreviousObservation(POMDPModels.BabyObservation(false)), N)"
   ]
  },
  {
   "cell_type": "code",
   "execution_count": 8,
   "metadata": {
    "collapsed": false
   },
   "outputs": [
    {
     "data": {
      "text/plain": [
       "-32.34750118876957"
      ]
     },
     "execution_count": 8,
     "metadata": {},
     "output_type": "execute_result"
    }
   ],
   "source": [
    "# Random\n",
    "pol_rng = MersenneTwister(7)\n",
    "est_reward(problem, RandomBabyPolicy(pol_rng), PreviousObservation(POMDPModels.BabyObservation(false)), N)"
   ]
  },
  {
   "cell_type": "code",
   "execution_count": null,
   "metadata": {
    "collapsed": false
   },
   "outputs": [],
   "source": [
    "# POMCP with FWC rollout policy\n",
    "# test from earlier this week with 5000 experiments: -16.77\n",
    "rng = MersenneTwister(2)\n",
    "\n",
    "solver = POMCPSolver(POMDPModels.FeedWhenCrying(),\n",
    "                     0.01,\n",
    "                     10,\n",
    "                     300, \n",
    "                     rng,\n",
    "                     false)\n",
    "\n",
    "policy = solve(solver, problem)\n",
    "\n",
    "@time est_reward(problem, policy, POMCPBeliefWrapper(POMDPModels.BabyStateDistribution(0.0)), N)"
   ]
  },
  {
   "cell_type": "code",
   "execution_count": null,
   "metadata": {
    "collapsed": false
   },
   "outputs": [],
   "source": [
    "# POMCP with Random rollout policy\n",
    "rng = MersenneTwister(2)\n",
    "rollout_pol_rng = MersenneTwister(2)\n",
    "\n",
    "solver = POMCPSolver(RandomBabyPolicy(rollout_pol_rng),\n",
    "                     0.01,\n",
    "                     10,\n",
    "                     300, \n",
    "                     rng,\n",
    "                     false)\n",
    "\n",
    "policy = solve(solver, problem)\n",
    "\n",
    "@time est_reward(problem, policy, POMCPBeliefWrapper(POMDPModels.BabyStateDistribution(0.0)), N)"
   ]
  },
  {
   "cell_type": "code",
   "execution_count": null,
   "metadata": {
    "collapsed": true
   },
   "outputs": [],
   "source": []
  }
 ],
 "metadata": {
  "kernelspec": {
   "display_name": "Julia 0.3.8",
   "language": "julia",
   "name": "julia-0.3"
  },
  "language_info": {
   "name": "julia",
   "version": "0.3.11"
  }
 },
 "nbformat": 4,
 "nbformat_minor": 0
}
