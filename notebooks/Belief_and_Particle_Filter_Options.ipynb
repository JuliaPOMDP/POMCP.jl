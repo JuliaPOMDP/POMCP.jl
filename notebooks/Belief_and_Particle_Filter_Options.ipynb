{
 "cells": [
  {
   "cell_type": "code",
   "execution_count": 1,
   "metadata": {
    "collapsed": false
   },
   "outputs": [],
   "source": [
    "using POMCP\n",
    "using POMDPs\n",
    "using POMDPModels\n",
    "using POMDPToolbox\n",
    "using GenerativeModels\n",
    "\n",
    "problem = BabyPOMDP();\n",
    "rng = MersenneTwister(1);"
   ]
  },
  {
   "cell_type": "markdown",
   "metadata": {},
   "source": [
    "# Default: POMCP Unweighted Particle Filter\n",
    "\n",
    "The default belief updater for POMCP uses the same particles for decision-making and belief updates as described in the paper. This behavior is implemented with the `RootUpdater` type."
   ]
  },
  {
   "cell_type": "code",
   "execution_count": 2,
   "metadata": {
    "collapsed": false
   },
   "outputs": [
    {
     "data": {
      "text/plain": [
       "POMCP.RootUpdater{POMCP.DeadReinvigorator{Bool}}(POMCP.DeadReinvigorator{Bool}())"
      ]
     },
     "execution_count": 2,
     "metadata": {},
     "output_type": "execute_result"
    }
   ],
   "source": [
    "solver = POMCPSolver(rng=rng, tree_queries=5)\n",
    "policy = solve(solver, problem)\n",
    "up = updater(policy)"
   ]
  },
  {
   "cell_type": "markdown",
   "metadata": {},
   "source": [
    "In this implementation of POMCP, the \"belief state\" is actually the tree itself, so when a new observation is received from the environment, the `RootUpdater` simply chooses a new node to act as the root of the tree for the next decision based on the observation."
   ]
  },
  {
   "cell_type": "code",
   "execution_count": 3,
   "metadata": {
    "collapsed": false
   },
   "outputs": [
    {
     "name": "stdout",
     "output_type": "stream",
     "text": [
      "typeof(first_root_node) = POMCP.RootNode{POMDPModels.BoolDistribution}\n",
      "typeof(second_root_node) = POMCP.ObsNode{POMCP.ParticleCollection{Bool},Bool,Bool}\n",
      "second_root_node.B = POMCP.ParticleCollection{Bool}(Bool[false,false,false])\n"
     ]
    }
   ],
   "source": [
    "# setup\n",
    "init_dist = initial_state_distribution(problem)\n",
    "s = rand(rng, init_dist)\n",
    "first_root_node = initialize_belief(up, init_dist)\n",
    "@show typeof(first_root_node)\n",
    "\n",
    "# plan and execute first action\n",
    "a = action(policy, first_root_node)\n",
    "(sp, o, r) = generate_sor(problem, s, a, rng)\n",
    "\n",
    "# the updater simply chooses the next root node\n",
    "second_root_node = update(up, first_root_node, a, o)\n",
    "@show typeof(second_root_node)\n",
    "\n",
    "# this new node contains particles representing the belief\n",
    "@show second_root_node.B\n",
    "\n",
    "# at the next step, POMCP uses the new root\n",
    "action(policy, second_root_node);"
   ]
  },
  {
   "cell_type": "markdown",
   "metadata": {},
   "source": [
    "Unfortunately, this simple unweighted particle filter scheme will often run into the problem of *particle depletion*, in which there are no particles corresponding the observation from the environment."
   ]
  },
  {
   "cell_type": "code",
   "execution_count": 4,
   "metadata": {
    "collapsed": false
   },
   "outputs": [
    {
     "ename": "LoadError",
     "evalue": "LoadError: POMCP.jl: Particle Depletion! To fix this, you have three options:\n      1) use more tree_queries (will only work for very small problems)\n      2) implement a ParticleReinvigorator with reinvigorate!() and handle_unseen_observation()\n      3) implement a more advanced updater for the agent (POMCP can use any\n         belief/state distribution that supports rand())\n\nwhile loading In[4], in expression starting on line 3",
     "output_type": "error",
     "traceback": [
      "LoadError: POMCP.jl: Particle Depletion! To fix this, you have three options:\n      1) use more tree_queries (will only work for very small problems)\n      2) implement a ParticleReinvigorator with reinvigorate!() and handle_unseen_observation()\n      3) implement a more advanced updater for the agent (POMCP can use any\n         belief/state distribution that supports rand())\n\nwhile loading In[4], in expression starting on line 3",
      "",
      " in update(::POMCP.RootUpdater{POMCP.DeadReinvigorator{Bool}}, ::POMCP.RootNode{POMDPModels.BoolDistribution}, ::Bool, ::Bool, ::Void) at /home/zach/.julia/v0.5/POMCP/src/updater.jl:15",
      " in update(::POMCP.RootUpdater{POMCP.DeadReinvigorator{Bool}}, ::POMCP.RootNode{POMDPModels.BoolDistribution}, ::Bool, ::Bool) at /home/zach/.julia/v0.5/POMCP/src/updater.jl:14"
     ]
    }
   ],
   "source": [
    "# artificially simulate particle depletion\n",
    "delete!(first_root_node.children[a].children, o)\n",
    "update(up, first_root_node, a, o)"
   ]
  },
  {
   "cell_type": "markdown",
   "metadata": {
    "collapsed": true
   },
   "source": [
    "The three solutions listed in the error message above are available to alleviate the problem. If you still want to use the standard POMCP unweighted particle filter, you must implement a `ParticleReinvigorator` (particle reinvigoration was used in the original POMCP paper).\n",
    "\n",
    "A `ParticleReinvigorator` should have two associated methods implemented for it, `reinvigorate!` and `handle_unseen_observation`. Below is a sample. (This is a very bad reinvigorator because it uniformly adds particles. A real reinvigorator should use domain knowledge to add particles similar to the ones already present and consistent with the action and observation.)"
   ]
  },
  {
   "cell_type": "code",
   "execution_count": 5,
   "metadata": {
    "collapsed": false
   },
   "outputs": [],
   "source": [
    "type UniformBabyReinvigorator <: ParticleReinvigorator end\n",
    "\n",
    "function POMCP.reinvigorate!(pc::ParticleCollection,\n",
    "        r::UniformBabyReinvigorator,\n",
    "        old_node::BeliefNode, a::Bool, o::Bool)\n",
    "    push!(pc, true)\n",
    "    push!(pc, false)\n",
    "    return pc\n",
    "end\n",
    "\n",
    "function POMCP.handle_unseen_observation(r::UniformBabyReinvigorator,\n",
    "        old_node::BeliefNode, a::Bool, o::Bool)\n",
    "    return ParticleCollection{Bool}([true, false])\n",
    "end   "
   ]
  },
  {
   "cell_type": "markdown",
   "metadata": {},
   "source": [
    "This allows an update to happen even when POMCP didn't simulate any particles resulting in the observation from the environment."
   ]
  },
  {
   "cell_type": "code",
   "execution_count": 6,
   "metadata": {
    "collapsed": false
   },
   "outputs": [
    {
     "data": {
      "text/plain": [
       "POMCP.ObsNode{POMCP.ParticleCollection{Bool},Bool,Bool}(false,0,POMCP.ParticleCollection{Bool}(Bool[true,false,true,false]),Dict{Bool,POMCP.ActNode{Bool,Bool,POMCP.ObsNode{POMCP.ParticleCollection{Bool},Bool,Bool}}}())"
      ]
     },
     "execution_count": 6,
     "metadata": {},
     "output_type": "execute_result"
    }
   ],
   "source": [
    "up_with_reinvig = RootUpdater(UniformBabyReinvigorator())\n",
    "# artificially simulate particle depletion\n",
    "delete!(first_root_node.children[a].children, o)\n",
    "update(up_with_reinvig, first_root_node, a, o)"
   ]
  },
  {
   "cell_type": "markdown",
   "metadata": {},
   "source": [
    "# Custom Belief Updater\n",
    "POMCP will work out of the box with any belief that supports `rand()`, for example:"
   ]
  },
  {
   "cell_type": "code",
   "execution_count": 7,
   "metadata": {
    "collapsed": false
   },
   "outputs": [
    {
     "name": "stdout",
     "output_type": "stream",
     "text": [
      "typeof(init_dist) = POMDPModels.BoolDistribution\n"
     ]
    },
    {
     "data": {
      "text/plain": [
       "false"
      ]
     },
     "execution_count": 7,
     "metadata": {},
     "output_type": "execute_result"
    }
   ],
   "source": [
    "init_dist = initial_state_distribution(problem)\n",
    "@show typeof(init_dist)\n",
    "action(policy, init_dist)"
   ]
  },
  {
   "cell_type": "markdown",
   "metadata": {},
   "source": [
    "However, in this case, the policy unnecessarily keeps track of the particles at each node in the tree."
   ]
  },
  {
   "cell_type": "code",
   "execution_count": 8,
   "metadata": {
    "collapsed": false
   },
   "outputs": [
    {
     "data": {
      "text/plain": [
       "POMCP.ParticleCollection{Bool}(Bool[false])"
      ]
     },
     "execution_count": 8,
     "metadata": {},
     "output_type": "execute_result"
    }
   ],
   "source": [
    "get(policy._tree_ref).children[true].children[false].B"
   ]
  },
  {
   "cell_type": "markdown",
   "metadata": {},
   "source": [
    "In order to prevent this, we can use a `VoidUpdater` from POMDPToolbox."
   ]
  },
  {
   "cell_type": "code",
   "execution_count": 9,
   "metadata": {
    "collapsed": false
   },
   "outputs": [
    {
     "name": "stdout",
     "output_type": "stream",
     "text": [
      "get(policy._tree_ref).children[true].children[false].B = nothing\n"
     ]
    }
   ],
   "source": [
    "solver = POMCPSolver(rng=rng, tree_queries=5,\n",
    "                     node_belief_updater = VoidUpdater())\n",
    "policy = solve(solver, problem)\n",
    "a = action(policy, init_dist)\n",
    "@show get(policy._tree_ref).children[true].children[false].B"
   ]
  },
  {
   "cell_type": "markdown",
   "metadata": {},
   "source": [
    "Note that even if the `node_belief_updater` is a `VoidUpdater`, we can still use *any* belief updater to handle real observations from the environment:"
   ]
  },
  {
   "cell_type": "code",
   "execution_count": 10,
   "metadata": {
    "collapsed": false
   },
   "outputs": [
    {
     "name": "stdout",
     "output_type": "stream",
     "text": [
      "belief2 = update(exact_updater,init_dist,a,o) = POMDPModels.BoolDistribution(0.02409638554216867)\n"
     ]
    },
    {
     "data": {
      "text/plain": [
       "true"
      ]
     },
     "execution_count": 10,
     "metadata": {},
     "output_type": "execute_result"
    }
   ],
   "source": [
    "exact_updater = BabyBeliefUpdater(problem)\n",
    "(sp, o, r) = generate_sor(problem, s, a, rng)\n",
    "@show belief2 = update(exact_updater, init_dist, a, o)\n",
    "a2 = action(policy, belief2)"
   ]
  },
  {
   "cell_type": "markdown",
   "metadata": {},
   "source": [
    "We can even use an arbitrary updater to update the beliefs at the nodes (for example if the rollout policy needs a specific belief representation)."
   ]
  },
  {
   "cell_type": "code",
   "execution_count": 11,
   "metadata": {
    "collapsed": false
   },
   "outputs": [
    {
     "data": {
      "text/plain": [
       "POMDPModels.BoolDistribution(0.0)"
      ]
     },
     "execution_count": 11,
     "metadata": {},
     "output_type": "execute_result"
    }
   ],
   "source": [
    "solver = POMCPSolver(rng=rng, tree_queries=5,\n",
    "                     node_belief_updater = exact_updater)\n",
    "policy = solve(solver, problem)\n",
    "a = action(policy, init_dist)\n",
    "get(policy._tree_ref).children[true].children[false].B"
   ]
  },
  {
   "cell_type": "markdown",
   "metadata": {},
   "source": [
    "## Re-using Simulations in a Custom Updater\n",
    "\n",
    "It is also possible for a custom belief updater to use the POMCP planner's decision-making simulations for a custom updater. To do this, simply define `POMCP.uses_states_from_planner(::YourBeliefType) = true` and `Base.push!(::YourBeliefType, ::State)` will be called every time a node is visited in POMCP.\n",
    "\n",
    "In the following example, the updater does not actually use the simulations to predict the next belief, but it prints out a message whenever a state is pushed to it by the planner."
   ]
  },
  {
   "cell_type": "code",
   "execution_count": 12,
   "metadata": {
    "collapsed": false
   },
   "outputs": [
    {
     "name": "stdout",
     "output_type": "stream",
     "text": [
      "Received state false from planner.\n",
      "Received state false from planner.\n",
      "Received state false from planner.\n",
      "Received state false from planner.\n",
      "Received state false from planner.\n"
     ]
    },
    {
     "data": {
      "text/plain": [
       "false"
      ]
     },
     "execution_count": 12,
     "metadata": {},
     "output_type": "execute_result"
    }
   ],
   "source": [
    "POMCP.uses_states_from_planner(::BoolDistribution) = true\n",
    "Base.push!(::BoolDistribution, s) = println(\"Received state $s from planner.\")\n",
    "\n",
    "solver = POMCPSolver(rng=rng, tree_queries=5,\n",
    "                     node_belief_updater = exact_updater)\n",
    "policy = solve(solver, problem)\n",
    "a = action(policy, init_dist)"
   ]
  },
  {
   "cell_type": "code",
   "execution_count": null,
   "metadata": {
    "collapsed": true
   },
   "outputs": [],
   "source": []
  }
 ],
 "metadata": {
  "anaconda-cloud": {},
  "kernelspec": {
   "display_name": "Julia 0.5.0",
   "language": "julia",
   "name": "julia-0.5"
  },
  "language_info": {
   "file_extension": ".jl",
   "mimetype": "application/julia",
   "name": "julia",
   "version": "0.5.0"
  }
 },
 "nbformat": 4,
 "nbformat_minor": 0
}
