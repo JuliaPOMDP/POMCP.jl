{
 "cells": [
  {
   "cell_type": "code",
   "execution_count": 2,
   "metadata": {
    "collapsed": false
   },
   "outputs": [],
   "source": [
    "# addprocs(30);\n",
    "addprocs(7);"
   ]
  },
  {
   "cell_type": "code",
   "execution_count": 3,
   "metadata": {
    "collapsed": false
   },
   "outputs": [],
   "source": [
    "using POMDPModels\n",
    "using POMCP\n",
    "using POMDPs\n",
    "using POMDPToolbox\n",
    "\n",
    "@everywhere begin\n",
    "    using POMDPModels\n",
    "    using POMCP\n",
    "    using POMDPs\n",
    "    using POMDPToolbox\n",
    "    import POMCP.init_V\n",
    "    import POMDPs: action, updater\n",
    "end"
   ]
  },
  {
   "cell_type": "code",
   "execution_count": 4,
   "metadata": {
    "collapsed": false
   },
   "outputs": [],
   "source": [
    "# N = 100000;\n",
    "N = 100;\n",
    "problem = BabyPOMDP(-5, -10);"
   ]
  },
  {
   "cell_type": "code",
   "execution_count": 5,
   "metadata": {
    "collapsed": false
   },
   "outputs": [
    {
     "data": {
      "text/plain": [
       "est_reward (generic function with 1 method)"
      ]
     },
     "execution_count": 5,
     "metadata": {},
     "output_type": "execute_result"
    }
   ],
   "source": [
    "function est_reward(problem, policy, belief, N; eps=0.01)\n",
    "    sum = @parallel (+) for i in 1:N\n",
    "        sim_rng = MersenneTwister(i)\n",
    "        sim = POMDPToolbox.RolloutSimulator(rng=sim_rng, initial_state=false, eps=eps)\n",
    "        up = updater(policy)\n",
    "        POMDPs.simulate(sim, problem, policy, up, initialize_belief(up,belief))\n",
    "    end\n",
    "    return sum/N;\n",
    "end"
   ]
  },
  {
   "cell_type": "code",
   "execution_count": 6,
   "metadata": {
    "collapsed": false
   },
   "outputs": [
    {
     "name": "stdout",
     "output_type": "stream",
     "text": [
      "  2.339915 seconds (518.67 k allocations: 21.867 MB, 0.30% gc time)\n"
     ]
    },
    {
     "data": {
      "text/plain": [
       "-15.061634270536405"
      ]
     },
     "execution_count": 6,
     "metadata": {},
     "output_type": "execute_result"
    }
   ],
   "source": [
    "@time est_reward(problem, FeedWhenCrying(), false, N)"
   ]
  },
  {
   "cell_type": "markdown",
   "metadata": {},
   "source": [
    "This is better than in the crying babies test because epsilon is large and, more importantly, it gets a notcrying observation on the first step every time"
   ]
  },
  {
   "cell_type": "code",
   "execution_count": 7,
   "metadata": {
    "collapsed": false
   },
   "outputs": [
    {
     "name": "stdout",
     "output_type": "stream",
     "text": [
      "  0.665952 seconds (142.63 k allocations: 5.912 MB, 0.98% gc time)\n"
     ]
    },
    {
     "data": {
      "text/plain": [
       "-31.33487686696136"
      ]
     },
     "execution_count": 7,
     "metadata": {},
     "output_type": "execute_result"
    }
   ],
   "source": [
    "# Random\n",
    "pol_rng = MersenneTwister(7)\n",
    "@time est_reward(problem, RandomPolicy(problem, rng=pol_rng), BoolDistribution(0.5), N)"
   ]
  },
  {
   "cell_type": "code",
   "execution_count": 8,
   "metadata": {
    "collapsed": false
   },
   "outputs": [
    {
     "name": "stdout",
     "output_type": "stream",
     "text": [
      " 41.543228 seconds (88.67 k allocations: 3.776 MB)\n"
     ]
    }
   ],
   "source": [
    "# POMCP with FWC rollout policy\n",
    "rng = MersenneTwister(3)\n",
    "\n",
    "solver = POMCPSolver(estimate_value=RolloutEstimator(FeedWhenCrying()),\n",
    "                    eps=0.01,\n",
    "                    c=10.0,\n",
    "                    tree_queries=300, \n",
    "                    rng=rng,\n",
    "                    node_belief_updater=updater(problem))\n",
    "                    \n",
    "\n",
    "policy = solve(solver, problem)\n",
    "\n",
    "@time est_reward(problem, policy, BoolDistribution(0.0), N)"
   ]
  },
  {
   "cell_type": "code",
   "execution_count": 9,
   "metadata": {
    "collapsed": false
   },
   "outputs": [
    {
     "name": "stdout",
     "output_type": "stream",
     "text": [
      " 45.274323 seconds (4.64 k allocations: 343.500 KB)\n"
     ]
    },
    {
     "data": {
      "text/plain": [
       "-15.919206742702293"
      ]
     },
     "execution_count": 9,
     "metadata": {},
     "output_type": "execute_result"
    }
   ],
   "source": [
    "# POMCP with Random rollout policy\n",
    "rng = MersenneTwister(2)\n",
    "rollout_pol_rng = MersenneTwister(2)\n",
    "\n",
    "solver = POMCPSolver(estimate_value=RolloutEstimator(RandomPolicy(problem, rng=rollout_pol_rng)),\n",
    "                     eps=0.01,\n",
    "                     c=10.0,\n",
    "                     tree_queries=300, \n",
    "                     rng=rng,\n",
    "                     node_belief_updater=updater(problem))\n",
    "\n",
    "policy = solve(solver, problem)\n",
    "\n",
    "@time est_reward(problem, policy, BoolDistribution(0.0), N)"
   ]
  },
  {
   "cell_type": "code",
   "execution_count": 10,
   "metadata": {
    "collapsed": false
   },
   "outputs": [
    {
     "name": "stdout",
     "output_type": "stream",
     "text": [
      "  0.318258 seconds (26.70 k allocations: 1.144 MB)\n"
     ]
    },
    {
     "data": {
      "text/plain": [
       "-14.686851194997828"
      ]
     },
     "execution_count": 10,
     "metadata": {},
     "output_type": "execute_result"
    }
   ],
   "source": [
    "# Optimal policy for these particular problem parameters:\n",
    "# if the belief that the baby is hungry is over .28206, then feed (see DMU book)\n",
    "@everywhere begin\n",
    "    type OptBabyPolicy <: POMDPs.Policy end\n",
    "    function action(p::OptBabyPolicy, b::BoolDistribution, a=false)\n",
    "        a = b.p>0.28206\n",
    "        return a\n",
    "    end\n",
    "    updater(::OptBabyPolicy) = updater(BabyPOMDP(-5,-10))\n",
    "end\n",
    "@time est_reward(problem, OptBabyPolicy(), BoolDistribution(0.0), N)"
   ]
  },
  {
   "cell_type": "code",
   "execution_count": 11,
   "metadata": {
    "collapsed": false
   },
   "outputs": [
    {
     "name": "stdout",
     "output_type": "stream",
     "text": [
      " 22.876641 seconds (53.25 k allocations: 2.363 MB)\n"
     ]
    },
    {
     "data": {
      "text/plain": [
       "-14.706134113641657"
      ]
     },
     "execution_count": 11,
     "metadata": {},
     "output_type": "execute_result"
    }
   ],
   "source": [
    "# POMCPDPW with FWC rollout policy\n",
    "rng = MersenneTwister(2)\n",
    "\n",
    "solver = POMCPDPWSolver(estimate_value=RolloutEstimator(FeedWhenCrying()),\n",
    "                    eps=0.01,\n",
    "                    c=10.0,\n",
    "                    tree_queries=300, \n",
    "                    rng=rng,\n",
    "                    node_belief_updater=updater(problem))\n",
    "                    \n",
    "\n",
    "policy = solve(solver, problem)\n",
    "\n",
    "@time est_reward(problem, policy, BoolDistribution(0.0), N)"
   ]
  },
  {
   "cell_type": "code",
   "execution_count": null,
   "metadata": {
    "collapsed": true
   },
   "outputs": [],
   "source": []
  }
 ],
 "metadata": {
  "anaconda-cloud": {},
  "kernelspec": {
   "display_name": "Julia 0.5.0",
   "language": "julia",
   "name": "julia-0.5"
  },
  "language_info": {
   "file_extension": ".jl",
   "mimetype": "application/julia",
   "name": "julia",
   "version": "0.5.0"
  }
 },
 "nbformat": 4,
 "nbformat_minor": 0
}
